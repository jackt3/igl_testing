{
 "cells": [
  {
   "cell_type": "code",
   "execution_count": 1,
   "metadata": {},
   "outputs": [],
   "source": [
    "# imports\n",
    "import meshplot as mp\n",
    "import matplotlib.pyplot as plt\n",
    "import nibabel as nb\n",
    "import numpy as np\n",
    "import igl_testing\n",
    "from ipywidgets import interactive, fixed, FloatSlider\n",
    "import ipywidgets as widgets\n",
    "from IPython.display import Javascript, display"
   ]
  },
  {
   "cell_type": "code",
   "execution_count": 2,
   "metadata": {},
   "outputs": [],
   "source": [
    "# define metrics for comparing operators\n",
    "def squared_difference(x, y):\n",
    "    return np.square(x - y)\n",
    "\n",
    "def percentage_difference(x, y):\n",
    "    return (y-x / y) * 100\n",
    "\n",
    "def abs_percentage_difference(x, y):\n",
    "    return np.abs((x-y / y) * 100)"
   ]
  },
  {
   "cell_type": "code",
   "execution_count": 3,
   "metadata": {},
   "outputs": [
    {
     "name": "stderr",
     "output_type": "stream",
     "text": [
      "/home/ibmeuser/anaconda3/envs/igl/lib/python3.8/site-packages/scipy/sparse/_index.py:124: SparseEfficiencyWarning: Changing the sparsity structure of a csc_matrix is expensive. lil_matrix is more efficient.\n",
      "  self._set_arrayXarray(i, j, x)\n"
     ]
    }
   ],
   "source": [
    "# load surface\n",
    "surface_name = '/home/ibmeuser/Documents/Data/hcp-asl/HCP_asl_min_req_mean_16_onsurface/HCA6002236/T1w/fsaverage_LR32k/HCA6002236_V1_MR.L.midthickness.32k_fs_LR.surf.gii'\n",
    "surface = nb.load(surface_name)\n",
    "v, f = surface.agg_data()\n",
    "\n",
    "# evaluate lbo and gl operators\n",
    "lbo = igl_testing.testing_igl.get_lbo(v, f, area_type='voronoi')\n",
    "gl = igl_testing.testing_igl.get_graph_laplacian(f)"
   ]
  },
  {
   "cell_type": "code",
   "execution_count": 4,
   "metadata": {},
   "outputs": [],
   "source": [
    "def eval_func(surface_name, func, s):\n",
    "    surface = nb.load(surface_name)\n",
    "    v, f = surface.agg_data()\n",
    "    # evaluate function and curvature\n",
    "    u = igl_testing.functions.FUNCS[func](v, s)\n",
    "    an_curv = igl_testing.curvatures.CURVS[func](v, s)\n",
    "    curv_min, curv_max = [an_curv.min(), an_curv.max()]\n",
    "    print(f\"Min curvature = {curv_min:0.2f}. Max curvature = {curv_max:0.2f}\")\n",
    "    # plot\n",
    "    tab = \"                          \"\n",
    "    print(f\"{tab}Function {tab}Analytic curvature\")\n",
    "    data = mp.subplot(v, f, c=u, s=[1, 2, 0])\n",
    "    mp.subplot(v, f, c=an_curv, s=[1, 2, 1], data=data)\n",
    "    return u, an_curv, curv_min, curv_max\n",
    "\n",
    "def display_clipped(surface_name, an_curv, lbo_u, gl_u, display_range):\n",
    "    # load surface\n",
    "    surface = nb.load(surface_name)\n",
    "    v, f = surface.agg_data()\n",
    "    # clip values\n",
    "    curv_max = display_range\n",
    "    curv_min = - curv_max\n",
    "    clipped_lbo_u = np.clip(lbo_u, curv_min, curv_max)\n",
    "    clipped_gl_u = np.clip(gl_u, curv_min, curv_max)\n",
    "    # plot the 3 curvatures for comparison\n",
    "    tab = \"            \"\n",
    "    print(f\"{tab}Analytic curvature {2*tab}LBO curvature {2*tab}GL curvature\")\n",
    "    curv_plots = mp.subplot(v, f, c=an_curv, s=[1, 3, 0])\n",
    "    mp.subplot(v, f, c=clipped_lbo_u, s=[1, 3, 1], data=curv_plots)\n",
    "    mp.subplot(v, f, c=clipped_gl_u, s=[1, 3, 2], data=curv_plots)\n",
    "    \n",
    "    return curv_min, curv_max\n",
    "\n",
    "def run_below_on_change(change):\n",
    "    display(Javascript('IPython.notebook.execute_cell_range(IPython.notebook.get_selected_index()+1, IPython.notebook.ncells())'))"
   ]
  },
  {
   "cell_type": "code",
   "execution_count": 5,
   "metadata": {},
   "outputs": [
    {
     "data": {
      "application/vnd.jupyter.widget-view+json": {
       "model_id": "de0f1e7481c04d41935e6ded932cd129",
       "version_major": 2,
       "version_minor": 0
      },
      "text/plain": [
       "interactive(children=(Dropdown(description='Function', options=('sumsincosxy', 'sumsincosxz', 'sumsincosyz'), …"
      ]
     },
     "metadata": {},
     "output_type": "display_data"
    },
    {
     "data": {
      "application/javascript": [
       "IPython.notebook.execute_cell_range(IPython.notebook.get_selected_index()+1, IPython.notebook.ncells())"
      ],
      "text/plain": [
       "<IPython.core.display.Javascript object>"
      ]
     },
     "metadata": {},
     "output_type": "display_data"
    },
    {
     "data": {
      "application/javascript": [
       "IPython.notebook.execute_cell_range(IPython.notebook.get_selected_index()+1, IPython.notebook.ncells())"
      ],
      "text/plain": [
       "<IPython.core.display.Javascript object>"
      ]
     },
     "metadata": {},
     "output_type": "display_data"
    },
    {
     "data": {
      "application/javascript": [
       "IPython.notebook.execute_cell_range(IPython.notebook.get_selected_index()+1, IPython.notebook.ncells())"
      ],
      "text/plain": [
       "<IPython.core.display.Javascript object>"
      ]
     },
     "metadata": {},
     "output_type": "display_data"
    },
    {
     "data": {
      "application/javascript": [
       "IPython.notebook.execute_cell_range(IPython.notebook.get_selected_index()+1, IPython.notebook.ncells())"
      ],
      "text/plain": [
       "<IPython.core.display.Javascript object>"
      ]
     },
     "metadata": {},
     "output_type": "display_data"
    },
    {
     "data": {
      "application/javascript": [
       "IPython.notebook.execute_cell_range(IPython.notebook.get_selected_index()+1, IPython.notebook.ncells())"
      ],
      "text/plain": [
       "<IPython.core.display.Javascript object>"
      ]
     },
     "metadata": {},
     "output_type": "display_data"
    },
    {
     "data": {
      "application/javascript": [
       "IPython.notebook.execute_cell_range(IPython.notebook.get_selected_index()+1, IPython.notebook.ncells())"
      ],
      "text/plain": [
       "<IPython.core.display.Javascript object>"
      ]
     },
     "metadata": {},
     "output_type": "display_data"
    },
    {
     "data": {
      "application/javascript": [
       "IPython.notebook.execute_cell_range(IPython.notebook.get_selected_index()+1, IPython.notebook.ncells())"
      ],
      "text/plain": [
       "<IPython.core.display.Javascript object>"
      ]
     },
     "metadata": {},
     "output_type": "display_data"
    },
    {
     "data": {
      "application/javascript": [
       "IPython.notebook.execute_cell_range(IPython.notebook.get_selected_index()+1, IPython.notebook.ncells())"
      ],
      "text/plain": [
       "<IPython.core.display.Javascript object>"
      ]
     },
     "metadata": {},
     "output_type": "display_data"
    }
   ],
   "source": [
    "# evaluate function at each vertex\n",
    "functions = [*igl_testing.functions.FUNCS.keys()]\n",
    "function_plot = interactive(\n",
    "    eval_func,\n",
    "    surface_name=fixed(surface_name),\n",
    "    func=widgets.Dropdown(options=functions, description='Function'),\n",
    "    s=FloatSlider(min=0.1, max=1.5, step=0.1, value=0.75, continuous_update=False, description='Speed')\n",
    ")\n",
    "output = function_plot.children[-1]\n",
    "output.layout.height='450px'\n",
    "display(function_plot)\n"
   ]
  },
  {
   "cell_type": "code",
   "execution_count": 16,
   "metadata": {},
   "outputs": [
    {
     "data": {
      "application/vnd.jupyter.widget-view+json": {
       "model_id": "2dbef1961a0f4a049cebc57d12f23bff",
       "version_major": 2,
       "version_minor": 0
      },
      "text/plain": [
       "interactive(children=(FloatSlider(value=2.4197723865509033, continuous_update=False, description='Clip range',…"
      ]
     },
     "metadata": {},
     "output_type": "display_data"
    }
   ],
   "source": [
    "function_plot.children[0].observe(run_below_on_change)\n",
    "function_plot.children[1].observe(run_below_on_change)\n",
    "# make widgets out of curv_min so when it changes we recalculate lbo_u\n",
    "u, an_curv, curv_min, curv_max = function_plot.result\n",
    "\n",
    "# get curvature via the LBO and the graph laplacian\n",
    "lbo_u = lbo.dot(u)\n",
    "gl_u = gl.dot(u)\n",
    "\n",
    "# plot\n",
    "curve_plot = interactive(\n",
    "    display_clipped,\n",
    "    surface_name=fixed(surface_name),\n",
    "    an_curv=fixed(an_curv),\n",
    "    lbo_u=fixed(lbo_u),\n",
    "    gl_u=fixed(gl_u),\n",
    "    display_range=widgets.FloatSlider(min=0.0, max=curv_max*10, step=0.1, value=curv_max, continuous_update=False, description='Clip range')\n",
    ")\n",
    "curve_out = curve_plot.children[-1]\n",
    "curve_out.layout.height = '450px'\n",
    "display(curve_plot)"
   ]
  },
  {
   "cell_type": "code",
   "execution_count": 17,
   "metadata": {},
   "outputs": [
    {
     "name": "stdout",
     "output_type": "stream",
     "text": [
      "Mean squared difference = 0.4299251437187195\n",
      "S.D. of squared difference = 0.7175780534744263\n"
     ]
    }
   ],
   "source": [
    "# plot the difference between analytic and estimated curvature\n",
    "sq_diff_lbo = squared_difference(lbo_u, an_curv)\n",
    "mean_sq_diff = sq_diff_lbo.mean()\n",
    "std_sq_diff = sq_diff_lbo.std()\n",
    "print(f\"Mean squared difference = {mean_sq_diff}\")\n",
    "print(f\"S.D. of squared difference = {std_sq_diff}\")\n",
    "clipped_sq_diff_lbo = np.clip(sq_diff_lbo, 0, mean_sq_diff + 2*std_sq_diff)\n",
    "perc_diff_lbo = percentage_difference(lbo_u, an_curv)\n",
    "perc_max = 200\n",
    "clipped_perc_diff_lbo = np.clip(perc_diff_lbo, -perc_max, perc_max)"
   ]
  },
  {
   "cell_type": "code",
   "execution_count": 18,
   "metadata": {},
   "outputs": [
    {
     "name": "stdout",
     "output_type": "stream",
     "text": [
      "Squared difference plots\n"
     ]
    },
    {
     "data": {
      "application/vnd.jupyter.widget-view+json": {
       "model_id": "0ced4b40de614416899e103e89a2ce96",
       "version_major": 2,
       "version_minor": 0
      },
      "text/plain": [
       "HBox(children=(Output(), Output()))"
      ]
     },
     "metadata": {},
     "output_type": "display_data"
    },
    {
     "name": "stdout",
     "output_type": "stream",
     "text": [
      "Percentage difference plots\n"
     ]
    },
    {
     "data": {
      "application/vnd.jupyter.widget-view+json": {
       "model_id": "35b9b84cfc18440ca86b52fc57c08804",
       "version_major": 2,
       "version_minor": 0
      },
      "text/plain": [
       "HBox(children=(Output(), Output()))"
      ]
     },
     "metadata": {},
     "output_type": "display_data"
    }
   ],
   "source": [
    "# plot squared differences\n",
    "print(\"Squared difference plots\")\n",
    "sq_diff_gl = squared_difference(an_curv, gl_u)\n",
    "clipped_sq_diff_gl = np.clip(sq_diff_gl, 0, mean_sq_diff + 2*std_sq_diff)\n",
    "sq_diff_plots = mp.subplot(v, f, c=clipped_sq_diff_lbo, s=[1, 2, 0])\n",
    "mp.subplot(v, f, c=clipped_sq_diff_gl, s=[1, 3, 1], data=sq_diff_plots)\n",
    "#plot percentage differences\n",
    "print(\"Percentage difference plots\")\n",
    "perc_diff_gl = percentage_difference(gl_u, an_curv)\n",
    "clipped_perc_diff_gl = np.clip(perc_diff_gl, -perc_max, perc_max)\n",
    "perc_diff_plots = mp.subplot(v, f, c=clipped_perc_diff_lbo, s=[1, 2, 0])\n",
    "mp.subplot(v, f, c=clipped_perc_diff_gl, s=[1, 3, 1], data=perc_diff_plots)"
   ]
  },
  {
   "cell_type": "code",
   "execution_count": 19,
   "metadata": {},
   "outputs": [
    {
     "data": {
      "image/png": "[encoded data removed]",
      "text/plain": [
       "<Figure size 1152x648 with 4 Axes>"
      ]
     },
     "metadata": {
      "needs_background": "light"
     },
     "output_type": "display_data"
    }
   ],
   "source": [
    "# show histograms of raw values\n",
    "curv_min, curv_max = curve_plot.result\n",
    "clipped_lbo_u, clipped_gl_u = [np.clip(curv, curv_min, curv_max) for curv in (lbo_u, gl_u)]\n",
    "nbins = 10\n",
    "colours = ('r', 'b', 'k')\n",
    "labels = ('Analytic', 'LBO', 'GL', 'All')\n",
    "fig, axs = plt.subplots(2, 2, figsize=(16, 9))\n",
    "for ax, label, curv, colour in zip(axs.reshape(-1,), \n",
    "                                   labels, \n",
    "                                   (an_curv, lbo_u, gl_u, (an_curv, clipped_lbo_u, clipped_gl_u)), \n",
    "                                   (*colours, colours)):\n",
    "    if label == 'All':\n",
    "        ax.hist(curv, nbins, color=colour, label=labels, histtype='step', stacked=False, fill=False, linewidth=2.5)\n",
    "    else:\n",
    "        ax.hist(curv, nbins, color=colour, label=label)\n",
    "    ax.set_xlabel(f\"{label} curvature\")\n",
    "    ax.set_ylabel(\"Frequency\")\n",
    "    ax.legend()"
   ]
  },
  {
   "cell_type": "code",
   "execution_count": 20,
   "metadata": {},
   "outputs": [
    {
     "data": {
      "image/png": "[encoded data removed]",
      "text/plain": [
       "<Figure size 1152x324 with 2 Axes>"
      ]
     },
     "metadata": {
      "needs_background": "light"
     },
     "output_type": "display_data"
    }
   ],
   "source": [
    "# summary statistics\n",
    "mean_sq_err_lbo = sq_diff_lbo.mean()\n",
    "mean_sq_err_gl = sq_diff_gl.mean()\n",
    "mean_perc_diff_lbo = perc_diff_lbo.mean()\n",
    "mean_perc_diff_gl = perc_diff_gl.mean()\n",
    "\n",
    "# show histograms of metrics\n",
    "nbins = 10\n",
    "perc_offset = 7.5\n",
    "colours = ('b', 'k')\n",
    "labels = ('LBO', 'GL')\n",
    "metrics = ('Squared difference', 'Percentage difference')\n",
    "metric_diffs = (\n",
    "    (clipped_sq_diff_lbo, clipped_sq_diff_gl),\n",
    "    (clipped_perc_diff_lbo, clipped_perc_diff_gl)\n",
    ")\n",
    "summary_stats = (\n",
    "    (mean_sq_err_lbo, mean_sq_err_gl),\n",
    "    (mean_perc_diff_lbo, mean_perc_diff_gl)\n",
    ")\n",
    "fig, axs = plt.subplots(1, 2, figsize=(16, 4.5))\n",
    "for ax, metric, diffs, summary in zip(axs, metrics, metric_diffs, summary_stats):\n",
    "    # unpacking\n",
    "    diff_lbo, diff_gl = diffs\n",
    "    texts = [f\"Mean = {sum_stat:.2f}\" for sum_stat in summary]\n",
    "    # plot\n",
    "    ax.hist((diff_lbo, diff_gl), nbins, color=colours, label=labels, histtype='step', stacked=False, fill=False, linewidth=2.5)\n",
    "    x_range = ax.get_xlim()\n",
    "    offset = (perc_offset / 100) * (x_range[1] - x_range[0])\n",
    "    # print summary statistics\n",
    "    for sum_stat, colour, text in zip(summary, colours, texts):\n",
    "        # check if sum_stat is in axis range\n",
    "        in_range = np.logical_and(sum_stat>x_range[0], sum_stat<x_range[1])\n",
    "        if not in_range:\n",
    "            if sum_stat < x_range[0]:\n",
    "                x_pos = x_range[0]\n",
    "                txt_pos = x_pos + offset\n",
    "            else:\n",
    "                x_pos = x_range[1]\n",
    "                txt_pos = x_pos - offset\n",
    "        else:\n",
    "            x_pos = sum_stat\n",
    "            txt_pos = x_pos - offset\n",
    "        ax.axvline(x_pos, color=colour, linestyle=\"--\")\n",
    "        ax.annotate(text, xy=(txt_pos, 0.7*ax.get_ylim()[1]), xycoords='data')\n",
    "    ax.set_xlabel(f\"(Thresholded) {metric}\")\n",
    "    ax.set_ylabel(\"Frequency\")\n",
    "    ax.set_title(f\"{metric} between analytic and estimated curvatures\")\n",
    "    ax.legend(loc=1)"
   ]
  }
 ],
 "metadata": {
  "kernelspec": {
   "display_name": "Python 3",
   "language": "python",
   "name": "python3"
  },
  "language_info": {
   "codemirror_mode": {
    "name": "ipython",
    "version": 3
   },
   "file_extension": ".py",
   "mimetype": "text/x-python",
   "name": "python",
   "nbconvert_exporter": "python",
   "pygments_lexer": "ipython3",
   "version": "3.8.5"
  }
 },
 "nbformat": 4,
 "nbformat_minor": 4
}
